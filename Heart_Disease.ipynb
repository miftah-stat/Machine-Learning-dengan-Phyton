{
  "nbformat": 4,
  "nbformat_minor": 5,
  "metadata": {
    "kernelspec": {
      "display_name": "Python 3",
      "language": "python",
      "name": "python3"
    },
    "language_info": {
      "codemirror_mode": {
        "name": "ipython",
        "version": 3
      },
      "file_extension": ".py",
      "mimetype": "text/x-python",
      "name": "python",
      "nbconvert_exporter": "python",
      "pygments_lexer": "ipython3",
      "version": "3.8.8"
    },
    "colab": {
      "name": "Heart Disease.ipynb",
      "provenance": [],
      "include_colab_link": true
    }
  },
  "cells": [
    {
      "cell_type": "markdown",
      "metadata": {
        "id": "view-in-github",
        "colab_type": "text"
      },
      "source": [
        "<a href=\"https://colab.research.google.com/github/miftah-stat/Machine-Learning-dengan-Phyton/blob/main/Heart_Disease.ipynb\" target=\"_parent\"><img src=\"https://colab.research.google.com/assets/colab-badge.svg\" alt=\"Open In Colab\"/></a>"
      ]
    },
    {
      "cell_type": "markdown",
      "metadata": {
        "id": "21a7e2b7"
      },
      "source": [
        "# Import Modules"
      ],
      "id": "21a7e2b7"
    },
    {
      "cell_type": "code",
      "metadata": {
        "colab": {
          "base_uri": "https://localhost:8080/"
        },
        "id": "507ed97d",
        "outputId": "ae66c4ff-f97e-4375-bc96-d86d237cb616"
      },
      "source": [
        "import pandas as pd\n",
        "import numpy as np\n",
        "import matplotlib.pyplot as plt\n",
        "from sklearn.model_selection import GridSearchCV, train_test_split, KFold, cross_val_score\n",
        "from sklearn.linear_model import LogisticRegression\n",
        "import statsmodels.api as sm\n",
        "from sklearn.tree import DecisionTreeClassifier\n",
        "from sklearn import tree\n",
        "from sklearn.svm import SVC\n",
        "from sklearn.ensemble import RandomForestClassifier\n",
        "from xgboost import XGBClassifier\n",
        "from sklearn.metrics import confusion_matrix"
      ],
      "id": "507ed97d",
      "execution_count": 1,
      "outputs": [
        {
          "output_type": "stream",
          "text": [
            "/usr/local/lib/python3.7/dist-packages/statsmodels/tools/_testing.py:19: FutureWarning: pandas.util.testing is deprecated. Use the functions in the public API at pandas.testing instead.\n",
            "  import pandas.util.testing as tm\n"
          ],
          "name": "stderr"
        }
      ]
    },
    {
      "cell_type": "markdown",
      "metadata": {
        "id": "fea9db5c"
      },
      "source": [
        "# Import Data (csv file)"
      ],
      "id": "fea9db5c"
    },
    {
      "cell_type": "code",
      "metadata": {
        "id": "58670d28"
      },
      "source": [
        "Heart=pd.read_csv('/content/Heart3.csv', sep=',')"
      ],
      "id": "58670d28",
      "execution_count": 3,
      "outputs": []
    },
    {
      "cell_type": "markdown",
      "metadata": {
        "id": "042fbe34"
      },
      "source": [
        "# Data Preview"
      ],
      "id": "042fbe34"
    },
    {
      "cell_type": "code",
      "metadata": {
        "colab": {
          "base_uri": "https://localhost:8080/",
          "height": 309
        },
        "id": "e905ca44",
        "outputId": "9c9397ec-1b45-4c08-ac62-5e8915d6d6a1"
      },
      "source": [
        "Heart.head()"
      ],
      "id": "e905ca44",
      "execution_count": 4,
      "outputs": [
        {
          "output_type": "execute_result",
          "data": {
            "text/html": [
              "<div>\n",
              "<style scoped>\n",
              "    .dataframe tbody tr th:only-of-type {\n",
              "        vertical-align: middle;\n",
              "    }\n",
              "\n",
              "    .dataframe tbody tr th {\n",
              "        vertical-align: top;\n",
              "    }\n",
              "\n",
              "    .dataframe thead th {\n",
              "        text-align: right;\n",
              "    }\n",
              "</style>\n",
              "<table border=\"1\" class=\"dataframe\">\n",
              "  <thead>\n",
              "    <tr style=\"text-align: right;\">\n",
              "      <th></th>\n",
              "      <th>Age</th>\n",
              "      <th>Gender</th>\n",
              "      <th>ChestPain</th>\n",
              "      <th>BloodPressure</th>\n",
              "      <th>Cholesterol</th>\n",
              "      <th>BloodSugar</th>\n",
              "      <th>Electrocardiographic</th>\n",
              "      <th>HeartRate</th>\n",
              "      <th>Exang</th>\n",
              "      <th>ST</th>\n",
              "      <th>slope</th>\n",
              "      <th>Vessel</th>\n",
              "      <th>Thalassemia</th>\n",
              "      <th>HeartDisease</th>\n",
              "    </tr>\n",
              "  </thead>\n",
              "  <tbody>\n",
              "    <tr>\n",
              "      <th>0</th>\n",
              "      <td>63</td>\n",
              "      <td>M</td>\n",
              "      <td>typical angina</td>\n",
              "      <td>145</td>\n",
              "      <td>233</td>\n",
              "      <td>&gt;120</td>\n",
              "      <td>hyperthropy</td>\n",
              "      <td>150</td>\n",
              "      <td>no</td>\n",
              "      <td>2.3</td>\n",
              "      <td>down</td>\n",
              "      <td>0</td>\n",
              "      <td>fixed defect</td>\n",
              "      <td>no</td>\n",
              "    </tr>\n",
              "    <tr>\n",
              "      <th>1</th>\n",
              "      <td>67</td>\n",
              "      <td>M</td>\n",
              "      <td>asymptotic</td>\n",
              "      <td>160</td>\n",
              "      <td>286</td>\n",
              "      <td>&lt;=120</td>\n",
              "      <td>hyperthropy</td>\n",
              "      <td>108</td>\n",
              "      <td>yes</td>\n",
              "      <td>1.5</td>\n",
              "      <td>flat</td>\n",
              "      <td>3</td>\n",
              "      <td>normal</td>\n",
              "      <td>yes</td>\n",
              "    </tr>\n",
              "    <tr>\n",
              "      <th>2</th>\n",
              "      <td>67</td>\n",
              "      <td>M</td>\n",
              "      <td>asymptotic</td>\n",
              "      <td>120</td>\n",
              "      <td>229</td>\n",
              "      <td>&lt;=120</td>\n",
              "      <td>hyperthropy</td>\n",
              "      <td>129</td>\n",
              "      <td>yes</td>\n",
              "      <td>2.6</td>\n",
              "      <td>flat</td>\n",
              "      <td>2</td>\n",
              "      <td>reversible defect</td>\n",
              "      <td>yes</td>\n",
              "    </tr>\n",
              "    <tr>\n",
              "      <th>3</th>\n",
              "      <td>37</td>\n",
              "      <td>M</td>\n",
              "      <td>non-anginal pain</td>\n",
              "      <td>130</td>\n",
              "      <td>250</td>\n",
              "      <td>&lt;=120</td>\n",
              "      <td>normal</td>\n",
              "      <td>187</td>\n",
              "      <td>no</td>\n",
              "      <td>3.5</td>\n",
              "      <td>down</td>\n",
              "      <td>0</td>\n",
              "      <td>normal</td>\n",
              "      <td>no</td>\n",
              "    </tr>\n",
              "    <tr>\n",
              "      <th>4</th>\n",
              "      <td>41</td>\n",
              "      <td>F</td>\n",
              "      <td>atypical angina</td>\n",
              "      <td>130</td>\n",
              "      <td>204</td>\n",
              "      <td>&lt;=120</td>\n",
              "      <td>hyperthropy</td>\n",
              "      <td>172</td>\n",
              "      <td>no</td>\n",
              "      <td>1.4</td>\n",
              "      <td>up</td>\n",
              "      <td>0</td>\n",
              "      <td>normal</td>\n",
              "      <td>no</td>\n",
              "    </tr>\n",
              "  </tbody>\n",
              "</table>\n",
              "</div>"
            ],
            "text/plain": [
              "   Age Gender         ChestPain  ...  Vessel        Thalassemia HeartDisease\n",
              "0   63      M    typical angina  ...       0       fixed defect           no\n",
              "1   67      M        asymptotic  ...       3             normal          yes\n",
              "2   67      M        asymptotic  ...       2  reversible defect          yes\n",
              "3   37      M  non-anginal pain  ...       0             normal           no\n",
              "4   41      F   atypical angina  ...       0             normal           no\n",
              "\n",
              "[5 rows x 14 columns]"
            ]
          },
          "metadata": {
            "tags": []
          },
          "execution_count": 4
        }
      ]
    },
    {
      "cell_type": "markdown",
      "metadata": {
        "id": "c26e5bc0"
      },
      "source": [
        "### Data Dimension"
      ],
      "id": "c26e5bc0"
    },
    {
      "cell_type": "code",
      "metadata": {
        "colab": {
          "base_uri": "https://localhost:8080/"
        },
        "id": "769626a8",
        "outputId": "138481e5-ca41-4754-d9ca-2f1e2eb6ddac"
      },
      "source": [
        "Heart.shape"
      ],
      "id": "769626a8",
      "execution_count": 5,
      "outputs": [
        {
          "output_type": "execute_result",
          "data": {
            "text/plain": [
              "(299, 14)"
            ]
          },
          "metadata": {
            "tags": []
          },
          "execution_count": 5
        }
      ]
    },
    {
      "cell_type": "markdown",
      "metadata": {
        "id": "1f2df66f"
      },
      "source": [
        "### Variable Type"
      ],
      "id": "1f2df66f"
    },
    {
      "cell_type": "code",
      "metadata": {
        "colab": {
          "base_uri": "https://localhost:8080/"
        },
        "id": "ccd0b49b",
        "outputId": "ca361fd7-988b-4d5b-9f3e-68ffc7b7505a"
      },
      "source": [
        "Heart.info()"
      ],
      "id": "ccd0b49b",
      "execution_count": 6,
      "outputs": [
        {
          "output_type": "stream",
          "text": [
            "<class 'pandas.core.frame.DataFrame'>\n",
            "RangeIndex: 299 entries, 0 to 298\n",
            "Data columns (total 14 columns):\n",
            " #   Column                Non-Null Count  Dtype  \n",
            "---  ------                --------------  -----  \n",
            " 0   Age                   299 non-null    int64  \n",
            " 1   Gender                299 non-null    object \n",
            " 2   ChestPain             299 non-null    object \n",
            " 3   BloodPressure         299 non-null    int64  \n",
            " 4   Cholesterol           299 non-null    int64  \n",
            " 5   BloodSugar            299 non-null    object \n",
            " 6   Electrocardiographic  299 non-null    object \n",
            " 7   HeartRate             299 non-null    int64  \n",
            " 8   Exang                 299 non-null    object \n",
            " 9   ST                    299 non-null    float64\n",
            " 10  slope                 299 non-null    object \n",
            " 11  Vessel                299 non-null    int64  \n",
            " 12  Thalassemia           299 non-null    object \n",
            " 13  HeartDisease          299 non-null    object \n",
            "dtypes: float64(1), int64(5), object(8)\n",
            "memory usage: 32.8+ KB\n"
          ],
          "name": "stdout"
        }
      ]
    },
    {
      "cell_type": "markdown",
      "metadata": {
        "id": "32609a0e"
      },
      "source": [
        "### Missing Value"
      ],
      "id": "32609a0e"
    },
    {
      "cell_type": "code",
      "metadata": {
        "colab": {
          "base_uri": "https://localhost:8080/"
        },
        "id": "77344252",
        "outputId": "dce9865c-5c52-4c66-947b-a2bd92f950d1"
      },
      "source": [
        "Heart.isnull().sum()"
      ],
      "id": "77344252",
      "execution_count": 7,
      "outputs": [
        {
          "output_type": "execute_result",
          "data": {
            "text/plain": [
              "Age                     0\n",
              "Gender                  0\n",
              "ChestPain               0\n",
              "BloodPressure           0\n",
              "Cholesterol             0\n",
              "BloodSugar              0\n",
              "Electrocardiographic    0\n",
              "HeartRate               0\n",
              "Exang                   0\n",
              "ST                      0\n",
              "slope                   0\n",
              "Vessel                  0\n",
              "Thalassemia             0\n",
              "HeartDisease            0\n",
              "dtype: int64"
            ]
          },
          "metadata": {
            "tags": []
          },
          "execution_count": 7
        }
      ]
    },
    {
      "cell_type": "code",
      "metadata": {
        "colab": {
          "base_uri": "https://localhost:8080/",
          "height": 401
        },
        "id": "cBQCw-GfZyI7",
        "outputId": "77c22727-3bb7-4f77-d794-620957f80b81"
      },
      "source": [
        "plt.boxplot(Heart.Age)"
      ],
      "id": "cBQCw-GfZyI7",
      "execution_count": 30,
      "outputs": [
        {
          "output_type": "execute_result",
          "data": {
            "text/plain": [
              "{'boxes': [<matplotlib.lines.Line2D at 0x7f56a8147450>],\n",
              " 'caps': [<matplotlib.lines.Line2D at 0x7f56a811c950>,\n",
              "  <matplotlib.lines.Line2D at 0x7f56a86c4110>],\n",
              " 'fliers': [<matplotlib.lines.Line2D at 0x7f56a811d350>],\n",
              " 'means': [],\n",
              " 'medians': [<matplotlib.lines.Line2D at 0x7f56a811d990>],\n",
              " 'whiskers': [<matplotlib.lines.Line2D at 0x7f56a811cb10>,\n",
              "  <matplotlib.lines.Line2D at 0x7f56a811c390>]}"
            ]
          },
          "metadata": {
            "tags": []
          },
          "execution_count": 30
        },
        {
          "output_type": "display_data",
          "data": {
            "image/png": "[encoded data removed]",
            "text/plain": [
              "<Figure size 432x288 with 1 Axes>"
            ]
          },
          "metadata": {
            "tags": [],
            "needs_background": "light"
          }
        }
      ]
    },
    {
      "cell_type": "markdown",
      "metadata": {
        "id": "3d190051"
      },
      "source": [
        "### Summary Data  (Numeric Variable)"
      ],
      "id": "3d190051"
    },
    {
      "cell_type": "code",
      "metadata": {
        "colab": {
          "base_uri": "https://localhost:8080/",
          "height": 297
        },
        "id": "ac80b62d",
        "outputId": "5a8f2015-6ae3-48eb-d487-0241ea7f6594"
      },
      "source": [
        "Heart.describe()"
      ],
      "id": "ac80b62d",
      "execution_count": 8,
      "outputs": [
        {
          "output_type": "execute_result",
          "data": {
            "text/html": [
              "<div>\n",
              "<style scoped>\n",
              "    .dataframe tbody tr th:only-of-type {\n",
              "        vertical-align: middle;\n",
              "    }\n",
              "\n",
              "    .dataframe tbody tr th {\n",
              "        vertical-align: top;\n",
              "    }\n",
              "\n",
              "    .dataframe thead th {\n",
              "        text-align: right;\n",
              "    }\n",
              "</style>\n",
              "<table border=\"1\" class=\"dataframe\">\n",
              "  <thead>\n",
              "    <tr style=\"text-align: right;\">\n",
              "      <th></th>\n",
              "      <th>Age</th>\n",
              "      <th>BloodPressure</th>\n",
              "      <th>Cholesterol</th>\n",
              "      <th>HeartRate</th>\n",
              "      <th>ST</th>\n",
              "      <th>Vessel</th>\n",
              "    </tr>\n",
              "  </thead>\n",
              "  <tbody>\n",
              "    <tr>\n",
              "      <th>count</th>\n",
              "      <td>299.000000</td>\n",
              "      <td>299.000000</td>\n",
              "      <td>299.000000</td>\n",
              "      <td>299.000000</td>\n",
              "      <td>299.000000</td>\n",
              "      <td>299.000000</td>\n",
              "    </tr>\n",
              "    <tr>\n",
              "      <th>mean</th>\n",
              "      <td>54.528428</td>\n",
              "      <td>131.668896</td>\n",
              "      <td>247.100334</td>\n",
              "      <td>149.505017</td>\n",
              "      <td>1.051839</td>\n",
              "      <td>0.672241</td>\n",
              "    </tr>\n",
              "    <tr>\n",
              "      <th>std</th>\n",
              "      <td>9.020950</td>\n",
              "      <td>17.705668</td>\n",
              "      <td>51.914779</td>\n",
              "      <td>22.954927</td>\n",
              "      <td>1.163809</td>\n",
              "      <td>0.937438</td>\n",
              "    </tr>\n",
              "    <tr>\n",
              "      <th>min</th>\n",
              "      <td>29.000000</td>\n",
              "      <td>94.000000</td>\n",
              "      <td>126.000000</td>\n",
              "      <td>71.000000</td>\n",
              "      <td>0.000000</td>\n",
              "      <td>0.000000</td>\n",
              "    </tr>\n",
              "    <tr>\n",
              "      <th>25%</th>\n",
              "      <td>48.000000</td>\n",
              "      <td>120.000000</td>\n",
              "      <td>211.000000</td>\n",
              "      <td>133.000000</td>\n",
              "      <td>0.000000</td>\n",
              "      <td>0.000000</td>\n",
              "    </tr>\n",
              "    <tr>\n",
              "      <th>50%</th>\n",
              "      <td>56.000000</td>\n",
              "      <td>130.000000</td>\n",
              "      <td>242.000000</td>\n",
              "      <td>153.000000</td>\n",
              "      <td>0.800000</td>\n",
              "      <td>0.000000</td>\n",
              "    </tr>\n",
              "    <tr>\n",
              "      <th>75%</th>\n",
              "      <td>61.000000</td>\n",
              "      <td>140.000000</td>\n",
              "      <td>275.500000</td>\n",
              "      <td>165.500000</td>\n",
              "      <td>1.600000</td>\n",
              "      <td>1.000000</td>\n",
              "    </tr>\n",
              "    <tr>\n",
              "      <th>max</th>\n",
              "      <td>77.000000</td>\n",
              "      <td>200.000000</td>\n",
              "      <td>564.000000</td>\n",
              "      <td>202.000000</td>\n",
              "      <td>6.200000</td>\n",
              "      <td>3.000000</td>\n",
              "    </tr>\n",
              "  </tbody>\n",
              "</table>\n",
              "</div>"
            ],
            "text/plain": [
              "              Age  BloodPressure  ...          ST      Vessel\n",
              "count  299.000000     299.000000  ...  299.000000  299.000000\n",
              "mean    54.528428     131.668896  ...    1.051839    0.672241\n",
              "std      9.020950      17.705668  ...    1.163809    0.937438\n",
              "min     29.000000      94.000000  ...    0.000000    0.000000\n",
              "25%     48.000000     120.000000  ...    0.000000    0.000000\n",
              "50%     56.000000     130.000000  ...    0.800000    0.000000\n",
              "75%     61.000000     140.000000  ...    1.600000    1.000000\n",
              "max     77.000000     200.000000  ...    6.200000    3.000000\n",
              "\n",
              "[8 rows x 6 columns]"
            ]
          },
          "metadata": {
            "tags": []
          },
          "execution_count": 8
        }
      ]
    },
    {
      "cell_type": "markdown",
      "metadata": {
        "id": "11581e0b"
      },
      "source": [
        "### Heart Disease (Target) Distribution"
      ],
      "id": "11581e0b"
    },
    {
      "cell_type": "code",
      "metadata": {
        "colab": {
          "base_uri": "https://localhost:8080/"
        },
        "id": "329d25eb",
        "outputId": "e20732fa-3103-4d98-882e-c0608c9965ce"
      },
      "source": [
        "Heart['HeartDisease'].value_counts()"
      ],
      "id": "329d25eb",
      "execution_count": 9,
      "outputs": [
        {
          "output_type": "execute_result",
          "data": {
            "text/plain": [
              "no     161\n",
              "yes    138\n",
              "Name: HeartDisease, dtype: int64"
            ]
          },
          "metadata": {
            "tags": []
          },
          "execution_count": 9
        }
      ]
    },
    {
      "cell_type": "code",
      "metadata": {
        "colab": {
          "base_uri": "https://localhost:8080/"
        },
        "id": "e64fa0cb",
        "outputId": "90a0d66a-1195-4ebc-9296-fc418b4aada4"
      },
      "source": [
        "Heart['HeartDisease'].value_counts(normalize=True)"
      ],
      "id": "e64fa0cb",
      "execution_count": 10,
      "outputs": [
        {
          "output_type": "execute_result",
          "data": {
            "text/plain": [
              "no     0.538462\n",
              "yes    0.461538\n",
              "Name: HeartDisease, dtype: float64"
            ]
          },
          "metadata": {
            "tags": []
          },
          "execution_count": 10
        }
      ]
    },
    {
      "cell_type": "markdown",
      "metadata": {
        "id": "3bec77a5"
      },
      "source": [
        "# Exploratory Data Analysis"
      ],
      "id": "3bec77a5"
    },
    {
      "cell_type": "markdown",
      "metadata": {
        "id": "941b3024"
      },
      "source": [
        "### Gender vs Heart Disease"
      ],
      "id": "941b3024"
    },
    {
      "cell_type": "code",
      "metadata": {
        "colab": {
          "base_uri": "https://localhost:8080/",
          "height": 295
        },
        "id": "0328bdc9",
        "outputId": "54ac4b18-d626-42ed-be4b-5d9817c77e0c"
      },
      "source": [
        "pd.crosstab(Heart['Gender'], Heart['HeartDisease'], normalize='index').plot.bar(rot=0, stacked=True, color=['b','r'])\n",
        "plt.legend(loc='upper right')\n",
        "plt.ylabel('Proportion')\n",
        "plt.title('Gender vs Heart Disease')\n",
        "plt.show()"
      ],
      "id": "0328bdc9",
      "execution_count": 13,
      "outputs": [
        {
          "output_type": "display_data",
          "data": {
            "image/png": "[encoded data removed]",
            "text/plain": [
              "<Figure size 432x288 with 1 Axes>"
            ]
          },
          "metadata": {
            "tags": [],
            "needs_background": "light"
          }
        }
      ]
    },
    {
      "cell_type": "markdown",
      "metadata": {
        "id": "4f840424"
      },
      "source": [
        "### Chest Pain vs Heart Disease"
      ],
      "id": "4f840424"
    },
    {
      "cell_type": "code",
      "metadata": {
        "colab": {
          "base_uri": "https://localhost:8080/",
          "height": 295
        },
        "id": "06b0d7a0",
        "outputId": "68cd8ce3-8b51-4d54-e877-6e20a1dde4cc"
      },
      "source": [
        "pd.crosstab(Heart['ChestPain'], Heart['HeartDisease'], normalize='index').plot.bar(rot=0, stacked=True, color=['b','r'])\n",
        "plt.legend(loc='upper right')\n",
        "plt.ylabel('Proportion')\n",
        "plt.title('Chest Pain vs Heart Disease')\n",
        "plt.show()"
      ],
      "id": "06b0d7a0",
      "execution_count": 14,
      "outputs": [
        {
          "output_type": "display_data",
          "data": {
            "image/png": "[encoded data removed]",
            "text/plain": [
              "<Figure size 432x288 with 1 Axes>"
            ]
          },
          "metadata": {
            "tags": [],
            "needs_background": "light"
          }
        }
      ]
    },
    {
      "cell_type": "markdown",
      "metadata": {
        "id": "4075edaa"
      },
      "source": [
        "### Blood Sugar vs Heart Disease"
      ],
      "id": "4075edaa"
    },
    {
      "cell_type": "code",
      "metadata": {
        "colab": {
          "base_uri": "https://localhost:8080/",
          "height": 295
        },
        "id": "335ff4b9",
        "outputId": "7275c715-ad36-433e-9365-61f798ba57d7"
      },
      "source": [
        "pd.crosstab(Heart['BloodSugar'], Heart['HeartDisease'], normalize='index').plot.bar(rot=0, stacked=True, color=['b','r'])\n",
        "plt.legend(loc='upper right')\n",
        "plt.ylabel('Proportion')\n",
        "plt.title('Blood Sugar vs Heart Disease')\n",
        "plt.show()"
      ],
      "id": "335ff4b9",
      "execution_count": 15,
      "outputs": [
        {
          "output_type": "display_data",
          "data": {
            "image/png": "[encoded data removed]",
            "text/plain": [
              "<Figure size 432x288 with 1 Axes>"
            ]
          },
          "metadata": {
            "tags": [],
            "needs_background": "light"
          }
        }
      ]
    },
    {
      "cell_type": "markdown",
      "metadata": {
        "id": "53c506e7"
      },
      "source": [
        "### Electrocardiographic vs Heart Disease"
      ],
      "id": "53c506e7"
    },
    {
      "cell_type": "code",
      "metadata": {
        "id": "143776b9"
      },
      "source": [
        "pd.crosstab(Heart['Electrocardiographic'], Heart['HeartDisease'], normalize='index').plot.bar(rot=0, stacked=True, color=['b','r'])\n",
        "plt.legend(loc='upper right')\n",
        "plt.ylabel('Proportion')\n",
        "plt.title('Electrocardiographic vs Heart Disease')\n",
        "plt.show()"
      ],
      "id": "143776b9",
      "execution_count": null,
      "outputs": []
    },
    {
      "cell_type": "markdown",
      "metadata": {
        "id": "17039a34"
      },
      "source": [
        "### Exercise Induced Angina vs Heart Disease"
      ],
      "id": "17039a34"
    },
    {
      "cell_type": "code",
      "metadata": {
        "id": "6f684f83"
      },
      "source": [
        "pd.crosstab(Heart['Exang'], Heart['HeartDisease'], normalize='index').plot.bar(rot=0, stacked=True, color=['b','r'])\n",
        "plt.legend(loc='upper right')\n",
        "plt.ylabel('Proportion')\n",
        "plt.title('Exercise Induced Angina vs Heart Disease')\n",
        "plt.show()"
      ],
      "id": "6f684f83",
      "execution_count": null,
      "outputs": []
    },
    {
      "cell_type": "markdown",
      "metadata": {
        "id": "3f1c303b"
      },
      "source": [
        "### ST SLope vs Heart Disease"
      ],
      "id": "3f1c303b"
    },
    {
      "cell_type": "code",
      "metadata": {
        "id": "cfd0a6de"
      },
      "source": [
        "pd.crosstab(Heart['slope'], Heart['HeartDisease'], normalize='index').plot.bar(rot=0, stacked=True, color=['b','r'])\n",
        "plt.legend(loc='upper right')\n",
        "plt.ylabel('Proportion')\n",
        "plt.title('ST SLope vs Heart Disease')\n",
        "plt.show()"
      ],
      "id": "cfd0a6de",
      "execution_count": null,
      "outputs": []
    },
    {
      "cell_type": "markdown",
      "metadata": {
        "id": "6a4c9f2c"
      },
      "source": [
        "### Vessel vs Heart Disease"
      ],
      "id": "6a4c9f2c"
    },
    {
      "cell_type": "code",
      "metadata": {
        "id": "d7f6562f"
      },
      "source": [
        "pd.crosstab(Heart['Vessel'], Heart['HeartDisease'], normalize='index').plot.bar(rot=0, stacked=True, color=['b','r'])\n",
        "plt.legend(loc='upper right')\n",
        "plt.ylabel('Proportion')\n",
        "plt.title('Vessel vs Heart Disease')\n",
        "plt.show()"
      ],
      "id": "d7f6562f",
      "execution_count": null,
      "outputs": []
    },
    {
      "cell_type": "markdown",
      "metadata": {
        "id": "69220362"
      },
      "source": [
        "### Thalassemia vs Heart Disease"
      ],
      "id": "69220362"
    },
    {
      "cell_type": "code",
      "metadata": {
        "id": "3dd7ce12"
      },
      "source": [
        "pd.crosstab(Heart['Thalassemia'], Heart['HeartDisease'], normalize='index').plot.bar(rot=0, stacked=True, color=['b','r'])\n",
        "plt.legend(loc='upper right')\n",
        "plt.ylabel('Proportion')\n",
        "plt.title('Thalassemia vs Heart Disease')\n",
        "plt.show()"
      ],
      "id": "3dd7ce12",
      "execution_count": null,
      "outputs": []
    },
    {
      "cell_type": "markdown",
      "metadata": {
        "id": "7e1b5d37"
      },
      "source": [
        "### Age vs Heart Disease"
      ],
      "id": "7e1b5d37"
    },
    {
      "cell_type": "code",
      "metadata": {
        "id": "77f76be6"
      },
      "source": [
        "colors = {'no':'b', 'yes':'r'}\n",
        "Heart.groupby('HeartDisease').Age.plot.density(alpha=0.5, legend=True, color=colors)\n",
        "plt.title('Age vs Heart Disease')\n",
        "plt.show()"
      ],
      "id": "77f76be6",
      "execution_count": null,
      "outputs": []
    },
    {
      "cell_type": "markdown",
      "metadata": {
        "id": "6abb7fe8"
      },
      "source": [
        "### Blood Pressure vs Heart Disease"
      ],
      "id": "6abb7fe8"
    },
    {
      "cell_type": "code",
      "metadata": {
        "id": "7f50948c"
      },
      "source": [
        "colors = {'no':'b', 'yes':'r'}\n",
        "Heart.groupby('HeartDisease').BloodPressure.plot.density(alpha=0.5, legend=True, color=colors)\n",
        "plt.title('Blood Pressure vs Heart Disease')\n",
        "plt.show()"
      ],
      "id": "7f50948c",
      "execution_count": null,
      "outputs": []
    },
    {
      "cell_type": "markdown",
      "metadata": {
        "id": "a657def2"
      },
      "source": [
        "### Cholesterol vs Heart Disease"
      ],
      "id": "a657def2"
    },
    {
      "cell_type": "code",
      "metadata": {
        "id": "f0ee1f5d"
      },
      "source": [
        "colors = {'no':'b', 'yes':'r'}\n",
        "Heart.groupby('HeartDisease').Cholesterol.plot.density(alpha=0.5, legend=True, color=colors)\n",
        "plt.title('Cholesterol vs Heart Disease')\n",
        "plt.show()"
      ],
      "id": "f0ee1f5d",
      "execution_count": null,
      "outputs": []
    },
    {
      "cell_type": "markdown",
      "metadata": {
        "id": "36a8e283"
      },
      "source": [
        "### Heart Rate vs Heart Disease"
      ],
      "id": "36a8e283"
    },
    {
      "cell_type": "code",
      "metadata": {
        "id": "d0d5cfbf"
      },
      "source": [
        "colors = {'no':'b', 'yes':'r'}\n",
        "Heart.groupby('HeartDisease').HeartRate.plot.density(alpha=0.5, legend=True, color=colors)\n",
        "plt.title('Heart Rate vs Heart Disease')\n",
        "plt.show()"
      ],
      "id": "d0d5cfbf",
      "execution_count": null,
      "outputs": []
    },
    {
      "cell_type": "markdown",
      "metadata": {
        "id": "3637b12d"
      },
      "source": [
        "### ST vs Heart Disease"
      ],
      "id": "3637b12d"
    },
    {
      "cell_type": "code",
      "metadata": {
        "id": "67e97d83"
      },
      "source": [
        "colors = {'no':'b', 'yes':'r'}\n",
        "Heart.groupby('HeartDisease').ST.plot.density(alpha=0.5, legend=True, color=colors)\n",
        "plt.title('ST vs Heart Disease')\n",
        "plt.show()"
      ],
      "id": "67e97d83",
      "execution_count": null,
      "outputs": []
    },
    {
      "cell_type": "markdown",
      "metadata": {
        "id": "dfeb9116"
      },
      "source": [
        "# Classification Modeling"
      ],
      "id": "dfeb9116"
    },
    {
      "cell_type": "markdown",
      "metadata": {
        "id": "82743d0f"
      },
      "source": [
        "### Dummy Variable (Categorical Variable)"
      ],
      "id": "82743d0f"
    },
    {
      "cell_type": "code",
      "metadata": {
        "id": "0e215e40"
      },
      "source": [
        "Heart2 = pd.get_dummies(Heart, columns=['Gender','ChestPain','BloodSugar','Electrocardiographic','Exang','slope','Thalassemia', 'HeartDisease'], drop_first=True)"
      ],
      "id": "0e215e40",
      "execution_count": 17,
      "outputs": []
    },
    {
      "cell_type": "code",
      "metadata": {
        "colab": {
          "base_uri": "https://localhost:8080/",
          "height": 241
        },
        "id": "7817aa1a",
        "outputId": "abe8eb9a-3fa6-4361-c72d-956a9b10c98a"
      },
      "source": [
        "Heart2.head()"
      ],
      "id": "7817aa1a",
      "execution_count": 18,
      "outputs": [
        {
          "output_type": "execute_result",
          "data": {
            "text/html": [
              "<div>\n",
              "<style scoped>\n",
              "    .dataframe tbody tr th:only-of-type {\n",
              "        vertical-align: middle;\n",
              "    }\n",
              "\n",
              "    .dataframe tbody tr th {\n",
              "        vertical-align: top;\n",
              "    }\n",
              "\n",
              "    .dataframe thead th {\n",
              "        text-align: right;\n",
              "    }\n",
              "</style>\n",
              "<table border=\"1\" class=\"dataframe\">\n",
              "  <thead>\n",
              "    <tr style=\"text-align: right;\">\n",
              "      <th></th>\n",
              "      <th>Age</th>\n",
              "      <th>BloodPressure</th>\n",
              "      <th>Cholesterol</th>\n",
              "      <th>HeartRate</th>\n",
              "      <th>ST</th>\n",
              "      <th>Vessel</th>\n",
              "      <th>Gender_M</th>\n",
              "      <th>ChestPain_atypical angina</th>\n",
              "      <th>ChestPain_non-anginal pain</th>\n",
              "      <th>ChestPain_typical angina</th>\n",
              "      <th>BloodSugar_&gt;120</th>\n",
              "      <th>Electrocardiographic_hyperthropy</th>\n",
              "      <th>Electrocardiographic_normal</th>\n",
              "      <th>Exang_yes</th>\n",
              "      <th>slope_flat</th>\n",
              "      <th>slope_up</th>\n",
              "      <th>Thalassemia_normal</th>\n",
              "      <th>Thalassemia_reversible defect</th>\n",
              "      <th>HeartDisease_yes</th>\n",
              "    </tr>\n",
              "  </thead>\n",
              "  <tbody>\n",
              "    <tr>\n",
              "      <th>0</th>\n",
              "      <td>63</td>\n",
              "      <td>145</td>\n",
              "      <td>233</td>\n",
              "      <td>150</td>\n",
              "      <td>2.3</td>\n",
              "      <td>0</td>\n",
              "      <td>1</td>\n",
              "      <td>0</td>\n",
              "      <td>0</td>\n",
              "      <td>1</td>\n",
              "      <td>1</td>\n",
              "      <td>1</td>\n",
              "      <td>0</td>\n",
              "      <td>0</td>\n",
              "      <td>0</td>\n",
              "      <td>0</td>\n",
              "      <td>0</td>\n",
              "      <td>0</td>\n",
              "      <td>0</td>\n",
              "    </tr>\n",
              "    <tr>\n",
              "      <th>1</th>\n",
              "      <td>67</td>\n",
              "      <td>160</td>\n",
              "      <td>286</td>\n",
              "      <td>108</td>\n",
              "      <td>1.5</td>\n",
              "      <td>3</td>\n",
              "      <td>1</td>\n",
              "      <td>0</td>\n",
              "      <td>0</td>\n",
              "      <td>0</td>\n",
              "      <td>0</td>\n",
              "      <td>1</td>\n",
              "      <td>0</td>\n",
              "      <td>1</td>\n",
              "      <td>1</td>\n",
              "      <td>0</td>\n",
              "      <td>1</td>\n",
              "      <td>0</td>\n",
              "      <td>1</td>\n",
              "    </tr>\n",
              "    <tr>\n",
              "      <th>2</th>\n",
              "      <td>67</td>\n",
              "      <td>120</td>\n",
              "      <td>229</td>\n",
              "      <td>129</td>\n",
              "      <td>2.6</td>\n",
              "      <td>2</td>\n",
              "      <td>1</td>\n",
              "      <td>0</td>\n",
              "      <td>0</td>\n",
              "      <td>0</td>\n",
              "      <td>0</td>\n",
              "      <td>1</td>\n",
              "      <td>0</td>\n",
              "      <td>1</td>\n",
              "      <td>1</td>\n",
              "      <td>0</td>\n",
              "      <td>0</td>\n",
              "      <td>1</td>\n",
              "      <td>1</td>\n",
              "    </tr>\n",
              "    <tr>\n",
              "      <th>3</th>\n",
              "      <td>37</td>\n",
              "      <td>130</td>\n",
              "      <td>250</td>\n",
              "      <td>187</td>\n",
              "      <td>3.5</td>\n",
              "      <td>0</td>\n",
              "      <td>1</td>\n",
              "      <td>0</td>\n",
              "      <td>1</td>\n",
              "      <td>0</td>\n",
              "      <td>0</td>\n",
              "      <td>0</td>\n",
              "      <td>1</td>\n",
              "      <td>0</td>\n",
              "      <td>0</td>\n",
              "      <td>0</td>\n",
              "      <td>1</td>\n",
              "      <td>0</td>\n",
              "      <td>0</td>\n",
              "    </tr>\n",
              "    <tr>\n",
              "      <th>4</th>\n",
              "      <td>41</td>\n",
              "      <td>130</td>\n",
              "      <td>204</td>\n",
              "      <td>172</td>\n",
              "      <td>1.4</td>\n",
              "      <td>0</td>\n",
              "      <td>0</td>\n",
              "      <td>1</td>\n",
              "      <td>0</td>\n",
              "      <td>0</td>\n",
              "      <td>0</td>\n",
              "      <td>1</td>\n",
              "      <td>0</td>\n",
              "      <td>0</td>\n",
              "      <td>0</td>\n",
              "      <td>1</td>\n",
              "      <td>1</td>\n",
              "      <td>0</td>\n",
              "      <td>0</td>\n",
              "    </tr>\n",
              "  </tbody>\n",
              "</table>\n",
              "</div>"
            ],
            "text/plain": [
              "   Age  BloodPressure  ...  Thalassemia_reversible defect  HeartDisease_yes\n",
              "0   63            145  ...                              0                 0\n",
              "1   67            160  ...                              0                 1\n",
              "2   67            120  ...                              1                 1\n",
              "3   37            130  ...                              0                 0\n",
              "4   41            130  ...                              0                 0\n",
              "\n",
              "[5 rows x 19 columns]"
            ]
          },
          "metadata": {
            "tags": []
          },
          "execution_count": 18
        }
      ]
    },
    {
      "cell_type": "markdown",
      "metadata": {
        "id": "0e2e9480"
      },
      "source": [
        "### Split X dan Y"
      ],
      "id": "0e2e9480"
    },
    {
      "cell_type": "code",
      "metadata": {
        "id": "b4944598"
      },
      "source": [
        "X = Heart2.drop('HeartDisease_yes',1)\n",
        "Y = Heart2['HeartDisease_yes']"
      ],
      "id": "b4944598",
      "execution_count": 19,
      "outputs": []
    },
    {
      "cell_type": "markdown",
      "metadata": {
        "id": "f92bdce5"
      },
      "source": [
        "### Train & Test Split Data"
      ],
      "id": "f92bdce5"
    },
    {
      "cell_type": "code",
      "metadata": {
        "colab": {
          "base_uri": "https://localhost:8080/"
        },
        "id": "582a991a",
        "outputId": "b5c8bb77-b5cc-400b-9708-b5e3168de5a1"
      },
      "source": [
        "X_train, X_test, Y_train, Y_test = train_test_split(X, Y, test_size=0.20, random_state = 123)\n",
        "X_train.shape, X_test.shape, Y_train.shape, Y_test.shape"
      ],
      "id": "582a991a",
      "execution_count": 20,
      "outputs": [
        {
          "output_type": "execute_result",
          "data": {
            "text/plain": [
              "((239, 18), (60, 18), (239,), (60,))"
            ]
          },
          "metadata": {
            "tags": []
          },
          "execution_count": 20
        }
      ]
    },
    {
      "cell_type": "markdown",
      "metadata": {
        "id": "264c3622"
      },
      "source": [
        "### Cross-Validation 10 Folds"
      ],
      "id": "264c3622"
    },
    {
      "cell_type": "code",
      "metadata": {
        "id": "a4eb04eb"
      },
      "source": [
        "cv = KFold(n_splits=10, random_state=123, shuffle=True)"
      ],
      "id": "a4eb04eb",
      "execution_count": 21,
      "outputs": []
    },
    {
      "cell_type": "markdown",
      "metadata": {
        "id": "d63429f2"
      },
      "source": [
        "## Logistic Regression"
      ],
      "id": "d63429f2"
    },
    {
      "cell_type": "code",
      "metadata": {
        "colab": {
          "base_uri": "https://localhost:8080/"
        },
        "id": "d4cd0dd0",
        "outputId": "6055e9bb-bc91-477e-e1ca-8d0b60257591"
      },
      "source": [
        "logreg = LogisticRegression(C=1e9, penalty='l1', fit_intercept = False, max_iter=10000, solver='liblinear')\n",
        "scores = cross_val_score(logreg, X_train, Y_train, scoring='accuracy', cv=cv)\n",
        "print(scores.mean())\n",
        "print(scores.var())"
      ],
      "id": "d4cd0dd0",
      "execution_count": 32,
      "outputs": [
        {
          "output_type": "stream",
          "text": [
            "0.8452898550724637\n",
            "0.004154983196807392\n"
          ],
          "name": "stdout"
        }
      ]
    },
    {
      "cell_type": "code",
      "metadata": {
        "colab": {
          "base_uri": "https://localhost:8080/"
        },
        "id": "SQXXXHuhm82P",
        "outputId": "92429751-209c-4b37-9fd6-1e1765926b71"
      },
      "source": [
        "logit=sm.GLM(Y_train, X_train, family=sm.families.Binomial()).fit()\n",
        "logitpred=logit.predict(X_test)\n",
        "logitclass=(logitpred>0.5).astype(int)\n",
        "print(logit.summary2())"
      ],
      "id": "SQXXXHuhm82P",
      "execution_count": 44,
      "outputs": [
        {
          "output_type": "stream",
          "text": [
            "                       Results: Generalized linear model\n",
            "================================================================================\n",
            "Model:                     GLM                   AIC:                 184.9038  \n",
            "Link Function:             logit                 BIC:                 -1061.3946\n",
            "Dependent Variable:        HeartDisease_yes      Log-Likelihood:      -74.452   \n",
            "Date:                      2021-07-03 04:56      LL-Null:             -165.19   \n",
            "No. Observations:          239                   Deviance:            148.90    \n",
            "Df Model:                  17                    Pearson chi2:        280.      \n",
            "Df Residuals:              221                   Scale:               1.0000    \n",
            "Method:                    IRLS                                                 \n",
            "--------------------------------------------------------------------------------\n",
            "                                  Coef.  Std.Err.    z    P>|z|   [0.025  0.975]\n",
            "--------------------------------------------------------------------------------\n",
            "Age                              -0.0163   0.0250 -0.6527 0.5140 -0.0653  0.0327\n",
            "BloodPressure                     0.0108   0.0131  0.8249 0.4094 -0.0149  0.0365\n",
            "Cholesterol                       0.0019   0.0044  0.4426 0.6581 -0.0067  0.0105\n",
            "HeartRate                        -0.0137   0.0114 -1.2051 0.2282 -0.0359  0.0086\n",
            "ST                                0.5712   0.2632  2.1706 0.0300  0.0554  1.0870\n",
            "Vessel                            1.3954   0.3213  4.3435 0.0000  0.7658  2.0251\n",
            "Gender_M                          1.1080   0.5680  1.9508 0.0511 -0.0052  2.2212\n",
            "ChestPain_atypical angina        -0.7007   0.6309 -1.1107 0.2667 -1.9373  0.5358\n",
            "ChestPain_non-anginal pain       -1.9110   0.5686 -3.3612 0.0008 -3.0254 -0.7967\n",
            "ChestPain_typical angina         -2.6555   0.8615 -3.0823 0.0021 -4.3441 -0.9670\n",
            "BloodSugar_>120                  -0.8193   0.7720 -1.0612 0.2886 -2.3325  0.6939\n",
            "Electrocardiographic_hyperthropy -1.1763   2.0005 -0.5880 0.5565 -5.0973  2.7446\n",
            "Electrocardiographic_normal      -1.7860   1.9787 -0.9026 0.3667 -5.6642  2.0922\n",
            "Exang_yes                         0.9172   0.4940  1.8568 0.0633 -0.0510  1.8855\n",
            "slope_flat                        0.5164   0.8772  0.5887 0.5561 -1.2028  2.2356\n",
            "slope_up                         -0.5396   0.9532 -0.5661 0.5713 -2.4078  1.3287\n",
            "Thalassemia_normal                0.4125   0.8836  0.4668 0.6406 -1.3194  2.1443\n",
            "Thalassemia_reversible defect     1.7114   0.8757  1.9544 0.0507 -0.0049  3.4277\n",
            "================================================================================\n",
            "\n"
          ],
          "name": "stdout"
        }
      ]
    },
    {
      "cell_type": "code",
      "metadata": {
        "id": "72e01362"
      },
      "source": [
        "logreg.fit(X_train, Y_train)\n",
        "logregpredict = logreg.predict(X_test)"
      ],
      "id": "72e01362",
      "execution_count": 23,
      "outputs": []
    },
    {
      "cell_type": "code",
      "metadata": {
        "colab": {
          "base_uri": "https://localhost:8080/"
        },
        "id": "7d4dd279",
        "outputId": "b02780db-f227-4399-b90c-df936af5e586"
      },
      "source": [
        "cm = confusion_matrix(Y_test,logregpredict)\n",
        "\n",
        "total=sum(sum(cm))\n",
        "accuracy = (cm[0,0]+cm[1,1])/total\n",
        "sensitivity = cm[1,1]/(cm[1,0]+cm[1,1])\n",
        "specificity = cm[0,0]/(cm[0,0]+cm[0,1])\n",
        "\n",
        "print('Confusion Matrix : \\n', cm)\n",
        "print('Accuracy : ', accuracy)\n",
        "print('Sensitivity : ', sensitivity)\n",
        "print('Specificity : ', specificity)"
      ],
      "id": "7d4dd279",
      "execution_count": 24,
      "outputs": [
        {
          "output_type": "stream",
          "text": [
            "Confusion Matrix : \n",
            " [[31  3]\n",
            " [ 8 18]]\n",
            "Accuracy :  0.8166666666666667\n",
            "Sensitivity :  0.6923076923076923\n",
            "Specificity :  0.9117647058823529\n"
          ],
          "name": "stdout"
        }
      ]
    },
    {
      "cell_type": "markdown",
      "metadata": {
        "id": "e042964c"
      },
      "source": [
        "## Decision Tree"
      ],
      "id": "e042964c"
    },
    {
      "cell_type": "code",
      "metadata": {
        "colab": {
          "base_uri": "https://localhost:8080/"
        },
        "id": "cd812a0b",
        "outputId": "504c628f-1883-46b0-bee4-f40bfc646a10"
      },
      "source": [
        "dt = DecisionTreeClassifier(random_state=123, max_depth=3)\n",
        "scores = cross_val_score(dt, X_train, Y_train, scoring='accuracy', cv=cv)\n",
        "print(scores.mean())\n",
        "print(scores.var())"
      ],
      "id": "cd812a0b",
      "execution_count": 25,
      "outputs": [
        {
          "output_type": "stream",
          "text": [
            "0.7905797101449276\n",
            "0.0032262129804662893\n"
          ],
          "name": "stdout"
        }
      ]
    },
    {
      "cell_type": "code",
      "metadata": {
        "id": "4a13d26e"
      },
      "source": [
        "dt.fit(X_train, Y_train)\n",
        "dtpredict = dt.predict(X_test)"
      ],
      "id": "4a13d26e",
      "execution_count": 26,
      "outputs": []
    },
    {
      "cell_type": "code",
      "metadata": {
        "colab": {
          "base_uri": "https://localhost:8080/"
        },
        "id": "9bf082ce",
        "outputId": "a098b4b8-9fc6-41da-9d31-cbb88b7662ac"
      },
      "source": [
        "cm = confusion_matrix(Y_test,dtpredict)\n",
        "\n",
        "total=sum(sum(cm))\n",
        "accuracy = (cm[0,0]+cm[1,1])/total\n",
        "sensitivity = cm[1,1]/(cm[1,0]+cm[1,1])\n",
        "specificity = cm[0,0]/(cm[0,0]+cm[0,1])\n",
        "\n",
        "print('Confusion Matrix : \\n', cm)\n",
        "print('Accuracy : ', accuracy)\n",
        "print('Sensitivity : ', sensitivity)\n",
        "print('Specificity : ', specificity)"
      ],
      "id": "9bf082ce",
      "execution_count": 27,
      "outputs": [
        {
          "output_type": "stream",
          "text": [
            "Confusion Matrix : \n",
            " [[26  8]\n",
            " [ 8 18]]\n",
            "Accuracy :  0.7333333333333333\n",
            "Sensitivity :  0.6923076923076923\n",
            "Specificity :  0.7647058823529411\n"
          ],
          "name": "stdout"
        }
      ]
    },
    {
      "cell_type": "markdown",
      "metadata": {
        "id": "af9ffbc2"
      },
      "source": [
        "## Support Vector Machine"
      ],
      "id": "af9ffbc2"
    },
    {
      "cell_type": "code",
      "metadata": {
        "id": "4af05bab"
      },
      "source": [
        "svm = SVC(kernel='linear')\n",
        "scores = cross_val_score(svm, X_train, Y_train, scoring='accuracy', cv=cv)\n",
        "print(scores.mean())\n",
        "print(scores.var())"
      ],
      "id": "4af05bab",
      "execution_count": null,
      "outputs": []
    },
    {
      "cell_type": "code",
      "metadata": {
        "id": "39c11158"
      },
      "source": [
        "svm.fit(X_train, Y_train)\n",
        "svmpredict = svm.predict(X_test)"
      ],
      "id": "39c11158",
      "execution_count": null,
      "outputs": []
    },
    {
      "cell_type": "code",
      "metadata": {
        "id": "180aa083"
      },
      "source": [
        "cm = confusion_matrix(Y_test,svmpredict)\n",
        "\n",
        "total=sum(sum(cm))\n",
        "accuracy = (cm[0,0]+cm[1,1])/total\n",
        "sensitivity = cm[1,1]/(cm[1,0]+cm[1,1])\n",
        "specificity = cm[0,0]/(cm[0,0]+cm[0,1])\n",
        "\n",
        "print('Confusion Matrix : \\n', cm)\n",
        "print('Accuracy : ', accuracy)\n",
        "print('Sensitivity : ', sensitivity)\n",
        "print('Specificity : ', specificity)"
      ],
      "id": "180aa083",
      "execution_count": null,
      "outputs": []
    },
    {
      "cell_type": "markdown",
      "metadata": {
        "id": "f4ee7ce6"
      },
      "source": [
        "## Random Forest"
      ],
      "id": "f4ee7ce6"
    },
    {
      "cell_type": "code",
      "metadata": {
        "id": "19ad0f57"
      },
      "source": [
        "rf = RandomForestClassifier(random_state=123)\n",
        "scores = cross_val_score(rf, X_train, Y_train, scoring='accuracy', cv=cv)\n",
        "print(scores.mean())\n",
        "print(scores.var())"
      ],
      "id": "19ad0f57",
      "execution_count": null,
      "outputs": []
    },
    {
      "cell_type": "code",
      "metadata": {
        "id": "c31cf580"
      },
      "source": [
        "rf.fit(X_train, Y_train)\n",
        "rfpredict = rf.predict(X_test)"
      ],
      "id": "c31cf580",
      "execution_count": null,
      "outputs": []
    },
    {
      "cell_type": "code",
      "metadata": {
        "id": "e10e6c59"
      },
      "source": [
        "cm = confusion_matrix(Y_test,rfpredict)\n",
        "\n",
        "total=sum(sum(cm))\n",
        "accuracy = (cm[0,0]+cm[1,1])/total\n",
        "sensitivity = cm[1,1]/(cm[1,0]+cm[1,1])\n",
        "specificity = cm[0,0]/(cm[0,0]+cm[0,1])\n",
        "\n",
        "print('Confusion Matrix : \\n', cm)\n",
        "print('Accuracy : ', accuracy)\n",
        "print('Sensitivity : ', sensitivity)\n",
        "print('Specificity : ', specificity)"
      ],
      "id": "e10e6c59",
      "execution_count": null,
      "outputs": []
    },
    {
      "cell_type": "markdown",
      "metadata": {
        "id": "77748eb8"
      },
      "source": [
        "## Extreme Gradient Boosting"
      ],
      "id": "77748eb8"
    },
    {
      "cell_type": "code",
      "metadata": {
        "id": "07e800e6"
      },
      "source": [
        "xgb = XGBClassifier(use_label_encoder=False, eval_metric='error')\n",
        "scores = cross_val_score(xgb, X_train, Y_train, scoring='accuracy', cv=cv)\n",
        "print(scores.mean())\n",
        "print(scores.var())"
      ],
      "id": "07e800e6",
      "execution_count": null,
      "outputs": []
    },
    {
      "cell_type": "code",
      "metadata": {
        "id": "33b69f2e"
      },
      "source": [
        "xgb.fit(X_train, Y_train)\n",
        "xgbpredict = xgb.predict(X_test)"
      ],
      "id": "33b69f2e",
      "execution_count": null,
      "outputs": []
    },
    {
      "cell_type": "code",
      "metadata": {
        "id": "2848ee5b"
      },
      "source": [
        "cm = confusion_matrix(Y_test,xgbpredict)\n",
        "\n",
        "total=sum(sum(cm))\n",
        "accuracy = (cm[0,0]+cm[1,1])/total\n",
        "sensitivity = cm[1,1]/(cm[1,0]+cm[1,1])\n",
        "specificity = cm[0,0]/(cm[0,0]+cm[0,1])\n",
        "\n",
        "print('Confusion Matrix : \\n', cm)\n",
        "print('Accuracy : ', accuracy)\n",
        "print('Sensitivity : ', sensitivity)\n",
        "print('Specificity : ', specificity)"
      ],
      "id": "2848ee5b",
      "execution_count": null,
      "outputs": []
    }
  ]
}